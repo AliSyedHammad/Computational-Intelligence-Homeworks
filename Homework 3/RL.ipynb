{
 "cells": [
  {
   "cell_type": "code",
   "execution_count": 2,
   "metadata": {},
   "outputs": [
    {
     "name": "stdout",
     "output_type": "stream",
     "text": [
      "pygame 2.1.2 (SDL 2.0.18, Python 3.9.10)\n",
      "Hello from the pygame community. https://www.pygame.org/contribute.html\n"
     ]
    }
   ],
   "source": [
    "import numpy as np\n",
    "import copy\n",
    "import pygame"
   ]
  },
  {
   "cell_type": "code",
   "execution_count": null,
   "metadata": {},
   "outputs": [],
   "source": [
    "directions = (\n",
    "[[0,   1,   0],\n",
    "[0,   0,   0],         #North\n",
    "[0,   0,   0]],\n",
    "\n",
    "[\n",
    "[0,   0,   0],\n",
    "[0,   0,   0],         # South\n",
    "[0,   1,   0]],\n",
    "\n",
    "[\n",
    "[0,   0,   0],\n",
    "[0,   0,   1],         # East\n",
    "[0,   0,   0]],\n",
    "\n",
    "[\n",
    "[0,   0,   0],\n",
    "[1,   0,   0],         # West\n",
    "[0,   0,   0]]\n",
    ")"
   ]
  },
  {
   "cell_type": "code",
   "execution_count": 45,
   "metadata": {},
   "outputs": [],
   "source": [
    "default_grid = [\n",
    "    [(0,0), (0,0), (0,0), (0,0), (0,0), (0,0), (0,0), (0,0), (0,0), (0,0)],\n",
    "    [(0,0), (0,0), (0,0), (0,0), (0,0), (0,0), (0,0), (0,0), (0,0), (0,0)],\n",
    "    [(0,0), (0,0), (0,0), (0,0), (-100,\"r\"), (-100,\"r\"), (-100,\"r\"), (-100,\"r\"), (0,0), (-100,\"r\")],\n",
    "    [(0,0), (0,0), (0,0), (0,0), (0,0), (0,0), (0,0), (0,0), (0,0), (0,0)],\n",
    "    [(0,0), (0,0), (0,0), (0,0), (0,0), (0,0), (0,0), (0,0), (0,0), (0,0)],\n",
    "    [(0,0), (0,0), (0,0), (0,0), (0,0), (0,0), (0,0), (0,0), (0,0), (0,0)],\n",
    "    [(0,0), (0,0), (-100,\"r\"), (0,0), (0,0), (0,0), (0,0), (0,0), (0,0), (0,0)],\n",
    "    [(0,0), (0,0), (-100,\"r\"), (-100,\"r\"), (0,0), (0,0), (-100,\"r\"), (-100,\"r\"), (-100,\"r\"), (0,0)],\n",
    "    [(0,0), (0,0), (-100,\"r\"), (0,0), (0,0), (0,0), (0,0), (0,0), (0,0), (0,0)],\n",
    "    [(0,0), (0,0), (-100,\"r\"), (-100,\"r\"), (-100,\"r\"), (-100,\"r\"), (-100,\"r\"), (-100,\"r\"), (-100,\"r\"), (100,\"r\")]\n",
    "        ]"
   ]
  },
  {
   "cell_type": "code",
   "execution_count": 46,
   "metadata": {},
   "outputs": [],
   "source": [
    "def initialize_grid():\n",
    "    grid = []\n",
    "    for row in range(10): #10 Rows \n",
    "        blocks_in_row = [] #Empty Row list\n",
    "        for column in range(10):\n",
    "            blocks_in_row.append((0, 0)) #Appending block values\n",
    "        grid.append(blocks_in_row)\n",
    "    return grid\n",
    "\n",
    "def place_objects(grid:list):\n",
    "    for i in range(np.random.randint(0, 10)):\n",
    "        grid[np.random.randint(0, 9)][np.random.randint(0, 9)] = (-100, \"r\") #Randomly placing red blocks\n",
    "\n",
    "    for i in range(np.random.randint(0, 7)):\n",
    "        grid[np.random.randint(0, 9)][np.random.randint(0, 9)] = (100, \"r\") #Randomly placing green blocks\n",
    "    return grid"
   ]
  },
  {
   "cell_type": "code",
   "execution_count": 47,
   "metadata": {},
   "outputs": [],
   "source": [
    "def calculate_value_direction(position, grid, direction):\n",
    "    value = 0\n",
    "    for i in [-1,1]:\n",
    "        if position[0]+i >= 0 and position[0]+i < 10 : \n",
    "            value += grid[position[0]+i][position[1]][0] * direction[1+i][1]\n",
    "        else:\n",
    "            value += grid[position[0]][position[1]][0] * direction[1+i][1]\n",
    "\n",
    "        if position[1]+i >= 0 and position[1]+i < 10:\n",
    "            value += grid[position[0]][position[1]+i][0] * direction[1][1+i]\n",
    "        else:\n",
    "            value += grid[position[0]][position[1]][0] * direction[1][1+i]\n",
    "            \n",
    "    return value"
   ]
  },
  {
   "cell_type": "code",
   "execution_count": 48,
   "metadata": {},
   "outputs": [],
   "source": [
    "def calc_values(position, grid, gamma):\n",
    "\n",
    "    if grid[position[0]][position[1]][1] == \"r\":\n",
    "        return (grid[position[0]][position[1]],)*4\n",
    "\n",
    "    value = {}\n",
    "    value['north'] = calculate_value_direction(position, grid, N) * gamma\n",
    "    value['south'] = calculate_value_direction(position, grid, S) * gamma\n",
    "    value['east'] = calculate_value_direction(position, grid, E) * gamma\n",
    "    value['west'] = calculate_value_direction(position, grid, W) * gamma\n",
    "    \n",
    "    return ((value['north'],\"north\"), (value['east'],\"east\"), (value['west'],\"west\"), (value['south'],\"south\"))"
   ]
  },
  {
   "cell_type": "code",
   "execution_count": 49,
   "metadata": {},
   "outputs": [],
   "source": [
    "def calc_arrow_coordinates(direction, row, col):\n",
    "    if direction == \"north\":\n",
    "        return (\n",
    "        (col*(MARGIN + HEIGHT)+14, row*(MARGIN + WIDTH)+22), \n",
    "        (col*(MARGIN + HEIGHT)+16, row*(MARGIN + WIDTH)+22), \n",
    "        (col*(MARGIN + HEIGHT)+16, row*(MARGIN + WIDTH)+15), \n",
    "        (col*(MARGIN + HEIGHT)+20, row*(MARGIN + WIDTH)+15), \n",
    "        (col*(MARGIN + HEIGHT)+15, row*(MARGIN + WIDTH)+6 ), \n",
    "        (col*(MARGIN + HEIGHT)+10, row*(MARGIN + WIDTH)+15), \n",
    "        (col*(MARGIN + HEIGHT)+14, row*(MARGIN + WIDTH)+15))\n",
    "    \n",
    "    elif direction == \"south\":\n",
    "        return (\n",
    "        (col*(MARGIN + HEIGHT)+14, row*(MARGIN + WIDTH)+6 ), \n",
    "        (col*(MARGIN + HEIGHT)+16, row*(MARGIN + WIDTH)+6 ), \n",
    "        (col*(MARGIN + HEIGHT)+16, row*(MARGIN + WIDTH)+15), \n",
    "        (col*(MARGIN + HEIGHT)+20, row*(MARGIN + WIDTH)+15), \n",
    "        (col*(MARGIN + HEIGHT)+15, row*(MARGIN + WIDTH)+22), \n",
    "        (col*(MARGIN + HEIGHT)+10, row*(MARGIN + WIDTH)+15), \n",
    "        (col*(MARGIN + HEIGHT)+14, row*(MARGIN + WIDTH)+15))\n",
    "\n",
    "    elif direction == \"east\":\n",
    "        return (\n",
    "        (col*(MARGIN + WIDTH)+6 , row*(MARGIN + HEIGHT)+14), \n",
    "        (col*(MARGIN + WIDTH)+6 , row*(MARGIN + HEIGHT)+16), \n",
    "        (col*(MARGIN + WIDTH)+15, row*(MARGIN + HEIGHT)+16), \n",
    "        (col*(MARGIN + WIDTH)+15, row*(MARGIN + HEIGHT)+20), \n",
    "        (col*(MARGIN + WIDTH)+22, row*(MARGIN + HEIGHT)+15), \n",
    "        (col*(MARGIN + WIDTH)+15, row*(MARGIN + HEIGHT)+10), \n",
    "        (col*(MARGIN + WIDTH)+15, row*(MARGIN + HEIGHT)+14))\n",
    "\n",
    "    elif direction == \"west\":\n",
    "        return (\n",
    "        (col*(MARGIN + WIDTH)+22, row*(MARGIN + HEIGHT)+14), \n",
    "        (col*(MARGIN + WIDTH)+22, row*(MARGIN + HEIGHT)+16), \n",
    "        (col*(MARGIN + WIDTH)+15, row*(MARGIN + HEIGHT)+16), \n",
    "        (col*(MARGIN + WIDTH)+15, row*(MARGIN + HEIGHT)+20), \n",
    "        (col*(MARGIN + WIDTH)+6 , row*(MARGIN + HEIGHT)+15), \n",
    "        (col*(MARGIN + WIDTH)+15, row*(MARGIN + HEIGHT)+10), \n",
    "        (col*(MARGIN + WIDTH)+15, row*(MARGIN + HEIGHT)+14))\n",
    "    "
   ]
  },
  {
   "cell_type": "code",
   "execution_count": 50,
   "metadata": {},
   "outputs": [],
   "source": [
    "BLACK = (0, 0, 0)\n",
    "WHITE = (255, 255, 255)\n",
    "GREEN = (0, 255, 0)\n",
    "RED = (255, 0, 0)\n",
    "\n",
    "WIDTH = 20\n",
    "HEIGHT = 20\n",
    "MARGIN = 5"
   ]
  },
  {
   "cell_type": "code",
   "execution_count": 51,
   "metadata": {},
   "outputs": [],
   "source": [
    "N, S, E, W = directions #initializing moveable directions\n",
    "def avengers_assemble(default):\n",
    "    alpha = 0.9 #learning rate\n",
    "\n",
    "    if default:\n",
    "        grid = default_grid\n",
    "    else:\n",
    "        grid = place_objects(initialize_grid()) #creating a random grid \n",
    "    \n",
    "\n",
    "    shadow = []\n",
    "\n",
    "    while(grid != shadow):\n",
    "\n",
    "        shadow = copy.deepcopy(grid)\n",
    "\n",
    "        for i in range(10):\n",
    "            for j in range(10):\n",
    "                n, e, w, s = calc_values((i,j), shadow, alpha)\n",
    "                grid[i][j] = max(([n,e,w,s][::-1]) , key = lambda x: x[0])\n",
    "\n",
    "\n",
    "    pygame.init()\n",
    "\n",
    "    # Set the HEIGHT and WIDTH of the screen\n",
    "    WINDOW_SIZE = [255, 255]\n",
    "    screen = pygame.display.set_mode(WINDOW_SIZE)\n",
    "\n",
    "    # Set title of screen\n",
    "    pygame.display.set_caption(\"Reinforcement Learning\")\n",
    "\n",
    "    # Loop until the user clicks the close button.\n",
    "    done = False\n",
    "\n",
    "    while not done:\n",
    "        for event in pygame.event.get():  # User did something\n",
    "            if event.type == pygame.QUIT:  # If user clicked close\n",
    "                done = True\n",
    "\n",
    "        for row in range(len(grid)):\n",
    "            for col in range(len(grid[0])):\n",
    "                color = WHITE\n",
    "\n",
    "                if grid[row][col][1] == \"r\":\n",
    "\n",
    "                    if grid[row][col][0] > 0 :\n",
    "                        color = GREEN\n",
    "                    elif grid[row][col][0] < 0 :\n",
    "                        color = RED\n",
    "                        \n",
    "                pygame.draw.rect(screen, color, [(MARGIN + WIDTH) * col + MARGIN,\n",
    "                                (MARGIN + HEIGHT) * row + MARGIN, WIDTH, HEIGHT])\n",
    "\n",
    "                if grid[row][col][1] != \"r\":\n",
    "                    pygame.draw.polygon(screen, (0, 0, 0), calc_arrow_coordinates(grid[row][col][1], row, col))\n",
    "\n",
    "        pygame.display.flip()\n",
    "\n",
    "\n",
    "    pygame.quit()"
   ]
  },
  {
   "cell_type": "code",
   "execution_count": 54,
   "metadata": {},
   "outputs": [],
   "source": [
    "avengers_assemble(0) #random grid\n",
    "# avengers_assemble(1) #default grid"
   ]
  },
  {
   "cell_type": "markdown",
   "metadata": {},
   "source": [
    "Note: Pygame assistance taken from previous submissions"
   ]
  }
 ],
 "metadata": {
  "interpreter": {
   "hash": "db60c623ecba8499f9fde8dfa94770af53334d1e88efbbc5af9e6918d94ce705"
  },
  "kernelspec": {
   "display_name": "Python 3.8.4 64-bit",
   "language": "python",
   "name": "python3"
  },
  "language_info": {
   "codemirror_mode": {
    "name": "ipython",
    "version": 3
   },
   "file_extension": ".py",
   "mimetype": "text/x-python",
   "name": "python",
   "nbconvert_exporter": "python",
   "pygments_lexer": "ipython3",
   "version": "3.9.10"
  },
  "orig_nbformat": 4
 },
 "nbformat": 4,
 "nbformat_minor": 2
}
