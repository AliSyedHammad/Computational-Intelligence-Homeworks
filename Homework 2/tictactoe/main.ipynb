{
 "cells": [
  {
   "cell_type": "markdown",
   "metadata": {},
   "source": [
    "### Particle Swarm Optimization using Neural Networks\n",
    "\n",
    "Here I'm implementing my PSO approach to solve TicTacToe.  I am using jupyter notebook because it saves each block of code to use on other blocks. We can first train our model using PSO and then play games using that model with different strategies."
   ]
  },
  {
   "cell_type": "code",
   "execution_count": 1,
   "metadata": {},
   "outputs": [],
   "source": [
    "# imports\n",
    "from neural_network import NeuralNetwork\n",
    "from board import *\n",
    "from PSO import ParticleSwarmOptimizer\n",
    "from tictactoe import *\n",
    "import warnings\n",
    "import matplotlib.pyplot as plt\n",
    "\n",
    "plt.rcParams['text.usetex'] = True\n",
    "plt.rcParams[\"figure.figsize\"] = (10,8)\n",
    "#suppress warnings\n",
    "warnings.filterwarnings('ignore')"
   ]
  },
  {
   "cell_type": "markdown",
   "metadata": {},
   "source": [
    "#### Train the model\n",
    "I am using a fully connected neural network with 1 hidden layer. There are 9 input neurons and 9 output neurons. The sigmoid activation function is used for the layers."
   ]
  },
  {
   "cell_type": "code",
   "execution_count": 2,
   "metadata": {},
   "outputs": [
    {
     "name": "stdout",
     "output_type": "stream",
     "text": [
      "Initializing swarm...\n",
      "Optimizing swarm...\n",
      "Global best:  0\n",
      "Global best:  715\n",
      "Global best:  715\n",
      "Global best:  995\n",
      "Global best:  995\n",
      "Global best:  995\n",
      "Global best:  995\n",
      "Global best:  995\n",
      "Global best:  995\n",
      "Global best:  995\n",
      "Global best:  995\n",
      "Global best:  995\n",
      "Global best:  995\n",
      "Global best:  995\n",
      "Global best:  995\n",
      "Global best:  995\n",
      "Global best:  995\n",
      "Global best:  995\n",
      "Global best:  995\n",
      "Global best:  995\n",
      "Global best:  995\n",
      "Global best:  995\n",
      "Global best:  995\n",
      "Global best:  995\n",
      "Global best:  995\n",
      "Global best:  995\n",
      "Global best:  995\n",
      "Global best:  995\n",
      "Global best:  995\n",
      "Global best:  995\n",
      "Global best:  995\n",
      "Global best:  995\n",
      "Global best:  995\n",
      "Global best:  995\n",
      "Global best:  995\n",
      "Global best:  995\n",
      "Global best:  995\n",
      "Global best:  995\n",
      "Global best:  1071\n",
      "Global best:  1071\n",
      "Global best:  1071\n",
      "Global best:  1071\n",
      "Global best:  1071\n",
      "Global best:  1071\n",
      "Global best:  1071\n",
      "Global best:  1071\n",
      "Global best:  1071\n",
      "Global best:  1071\n",
      "Global best:  1071\n",
      "Global best:  1071\n",
      "Global best:  1071\n",
      "Global best:  1071\n",
      "Global best:  1071\n",
      "Global best:  1071\n",
      "Global best:  1071\n",
      "Global best:  1071\n",
      "Global best:  1071\n",
      "Global best:  1071\n",
      "Global best:  1071\n",
      "Global best:  1071\n",
      "Global best:  1071\n",
      "Global best:  1071\n",
      "Global best:  1071\n",
      "Global best:  1071\n",
      "Global best:  1071\n",
      "Global best:  1071\n",
      "Global best:  1071\n",
      "Global best:  1071\n",
      "Global best:  1071\n",
      "Global best:  1071\n",
      "Global best:  1071\n",
      "Global best:  1071\n",
      "Global best:  1071\n",
      "Global best:  1071\n",
      "Global best:  1071\n",
      "Global best:  1071\n",
      "Global best:  1071\n",
      "Global best:  1071\n",
      "Global best:  1071\n",
      "Global best:  1071\n",
      "Global best:  1071\n",
      "Global best:  1071\n",
      "Global best:  1071\n",
      "Global best:  1071\n",
      "Global best:  1071\n",
      "Global best:  1071\n",
      "Global best:  1133\n"
     ]
    },
    {
     "ename": "KeyboardInterrupt",
     "evalue": "",
     "output_type": "error",
     "traceback": [
      "\u001b[1;31m---------------------------------------------------------------------------\u001b[0m",
      "\u001b[1;31mKeyboardInterrupt\u001b[0m                         Traceback (most recent call last)",
      "\u001b[1;32mc:\\Users\\Faaz\\Habib University\\Spring 2022\\Computational Intelligence\\Assignment 02\\Assignment 2\\tictactoe\\main.ipynb Cell 4'\u001b[0m in \u001b[0;36m<module>\u001b[1;34m\u001b[0m\n\u001b[0;32m      <a href='vscode-notebook-cell:/c%3A/Users/Faaz/Habib%20University/Spring%202022/Computational%20Intelligence/Assignment%2002/Assignment%202/tictactoe/main.ipynb#ch0000003?line=0'>1</a>\u001b[0m model \u001b[39m=\u001b[39m NeuralNetwork(num_inputs\u001b[39m=\u001b[39m\u001b[39m9\u001b[39m,num_hidden\u001b[39m=\u001b[39m\u001b[39m36\u001b[39m,num_outputs\u001b[39m=\u001b[39m\u001b[39m9\u001b[39m)\n\u001b[1;32m----> <a href='vscode-notebook-cell:/c%3A/Users/Faaz/Habib%20University/Spring%202022/Computational%20Intelligence/Assignment%2002/Assignment%202/tictactoe/main.ipynb#ch0000003?line=1'>2</a>\u001b[0m model\u001b[39m.\u001b[39;49moptimizeUsingPSO(iterations\u001b[39m=\u001b[39;49m\u001b[39m50\u001b[39;49m, num_particles\u001b[39m=\u001b[39;49m\u001b[39m100\u001b[39;49m, max_position\u001b[39m=\u001b[39;49m\u001b[39m1\u001b[39;49m, max_velocity\u001b[39m=\u001b[39;49m\u001b[39m0.6\u001b[39;49m)\n",
      "File \u001b[1;32mc:\\Users\\Faaz\\Habib University\\Spring 2022\\Computational Intelligence\\Assignment 02\\Assignment 2\\tictactoe\\neural_network.py:87\u001b[0m, in \u001b[0;36mNeuralNetwork.optimizeUsingPSO\u001b[1;34m(self, num_particles, iterations, max_position, max_velocity)\u001b[0m\n\u001b[0;32m     <a href='file:///c%3A/Users/Faaz/Habib%20University/Spring%202022/Computational%20Intelligence/Assignment%2002/Assignment%202/tictactoe/neural_network.py?line=78'>79</a>\u001b[0m dimension \u001b[39m=\u001b[39m \u001b[39mlen\u001b[39m(\u001b[39mself\u001b[39m\u001b[39m.\u001b[39mweights_ho\u001b[39m.\u001b[39mflatten())\u001b[39m+\u001b[39m\u001b[39mlen\u001b[39m(\u001b[39mself\u001b[39m\u001b[39m.\u001b[39mweights_ih\u001b[39m.\u001b[39mflatten())\n\u001b[0;32m     <a href='file:///c%3A/Users/Faaz/Habib%20University/Spring%202022/Computational%20Intelligence/Assignment%2002/Assignment%202/tictactoe/neural_network.py?line=79'>80</a>\u001b[0m pso \u001b[39m=\u001b[39m ParticleSwarmOptimizer(\n\u001b[0;32m     <a href='file:///c%3A/Users/Faaz/Habib%20University/Spring%202022/Computational%20Intelligence/Assignment%2002/Assignment%202/tictactoe/neural_network.py?line=80'>81</a>\u001b[0m     num_particles\u001b[39m=\u001b[39mnum_particles, \n\u001b[0;32m     <a href='file:///c%3A/Users/Faaz/Habib%20University/Spring%202022/Computational%20Intelligence/Assignment%2002/Assignment%202/tictactoe/neural_network.py?line=81'>82</a>\u001b[0m     num_dimensions\u001b[39m=\u001b[39mdimension, \n\u001b[0;32m     <a href='file:///c%3A/Users/Faaz/Habib%20University/Spring%202022/Computational%20Intelligence/Assignment%2002/Assignment%202/tictactoe/neural_network.py?line=82'>83</a>\u001b[0m     fitness_function\u001b[39m=\u001b[39m\u001b[39mself\u001b[39m\u001b[39m.\u001b[39mcalculate_loss,\n\u001b[0;32m     <a href='file:///c%3A/Users/Faaz/Habib%20University/Spring%202022/Computational%20Intelligence/Assignment%2002/Assignment%202/tictactoe/neural_network.py?line=83'>84</a>\u001b[0m     max_velocity\u001b[39m=\u001b[39mmax_velocity, \n\u001b[0;32m     <a href='file:///c%3A/Users/Faaz/Habib%20University/Spring%202022/Computational%20Intelligence/Assignment%2002/Assignment%202/tictactoe/neural_network.py?line=84'>85</a>\u001b[0m     max_position\u001b[39m=\u001b[39mmax_position)\n\u001b[1;32m---> <a href='file:///c%3A/Users/Faaz/Habib%20University/Spring%202022/Computational%20Intelligence/Assignment%2002/Assignment%202/tictactoe/neural_network.py?line=86'>87</a>\u001b[0m pso\u001b[39m.\u001b[39;49moptimize(iterations\u001b[39m=\u001b[39;49miterations)\n\u001b[0;32m     <a href='file:///c%3A/Users/Faaz/Habib%20University/Spring%202022/Computational%20Intelligence/Assignment%2002/Assignment%202/tictactoe/neural_network.py?line=87'>88</a>\u001b[0m weights \u001b[39m=\u001b[39m pso\u001b[39m.\u001b[39mglobal_best\u001b[39m.\u001b[39mposition\n\u001b[0;32m     <a href='file:///c%3A/Users/Faaz/Habib%20University/Spring%202022/Computational%20Intelligence/Assignment%2002/Assignment%202/tictactoe/neural_network.py?line=89'>90</a>\u001b[0m \u001b[39mself\u001b[39m\u001b[39m.\u001b[39mbest_history \u001b[39m=\u001b[39m pso\u001b[39m.\u001b[39mget_best_history()\n",
      "File \u001b[1;32mc:\\Users\\Faaz\\Habib University\\Spring 2022\\Computational Intelligence\\Assignment 02\\Assignment 2\\tictactoe\\PSO.py:56\u001b[0m, in \u001b[0;36mParticleSwarmOptimizer.optimize\u001b[1;34m(self, iterations)\u001b[0m\n\u001b[0;32m     <a href='file:///c%3A/Users/Faaz/Habib%20University/Spring%202022/Computational%20Intelligence/Assignment%2002/Assignment%202/tictactoe/PSO.py?line=53'>54</a>\u001b[0m particle\u001b[39m.\u001b[39mvelocity \u001b[39m=\u001b[39m (\u001b[39mself\u001b[39m\u001b[39m.\u001b[39mw \u001b[39m*\u001b[39m particle\u001b[39m.\u001b[39mvelocity) \u001b[39m+\u001b[39m (\u001b[39mself\u001b[39m\u001b[39m.\u001b[39mc1 \u001b[39m*\u001b[39m random\u001b[39m.\u001b[39mrandom() \u001b[39m*\u001b[39m (particle\u001b[39m.\u001b[39mpbest_position \u001b[39m-\u001b[39m particle\u001b[39m.\u001b[39mposition)) \u001b[39m+\u001b[39m (\u001b[39mself\u001b[39m\u001b[39m.\u001b[39mc2 \u001b[39m*\u001b[39m random\u001b[39m.\u001b[39mrandom() \u001b[39m*\u001b[39m (\u001b[39mself\u001b[39m\u001b[39m.\u001b[39mglobal_best\u001b[39m.\u001b[39mposition \u001b[39m-\u001b[39m particle\u001b[39m.\u001b[39mposition))\n\u001b[0;32m     <a href='file:///c%3A/Users/Faaz/Habib%20University/Spring%202022/Computational%20Intelligence/Assignment%2002/Assignment%202/tictactoe/PSO.py?line=54'>55</a>\u001b[0m particle\u001b[39m.\u001b[39mposition \u001b[39m=\u001b[39m particle\u001b[39m.\u001b[39mposition \u001b[39m+\u001b[39m particle\u001b[39m.\u001b[39mvelocity\n\u001b[1;32m---> <a href='file:///c%3A/Users/Faaz/Habib%20University/Spring%202022/Computational%20Intelligence/Assignment%2002/Assignment%202/tictactoe/PSO.py?line=55'>56</a>\u001b[0m particle\u001b[39m.\u001b[39mfitness \u001b[39m=\u001b[39m \u001b[39mself\u001b[39;49m\u001b[39m.\u001b[39;49mfitness_function(particle\u001b[39m.\u001b[39;49mposition)\n\u001b[0;32m     <a href='file:///c%3A/Users/Faaz/Habib%20University/Spring%202022/Computational%20Intelligence/Assignment%2002/Assignment%202/tictactoe/PSO.py?line=56'>57</a>\u001b[0m \u001b[39mif\u001b[39;00m particle\u001b[39m.\u001b[39mfitness \u001b[39m>\u001b[39m \u001b[39mself\u001b[39m\u001b[39m.\u001b[39mglobal_best\u001b[39m.\u001b[39mfitness:\n\u001b[0;32m     <a href='file:///c%3A/Users/Faaz/Habib%20University/Spring%202022/Computational%20Intelligence/Assignment%2002/Assignment%202/tictactoe/PSO.py?line=57'>58</a>\u001b[0m     \u001b[39mself\u001b[39m\u001b[39m.\u001b[39mglobal_best \u001b[39m=\u001b[39m particle\u001b[39m.\u001b[39mcopy()\n",
      "File \u001b[1;32mc:\\Users\\Faaz\\Habib University\\Spring 2022\\Computational Intelligence\\Assignment 02\\Assignment 2\\tictactoe\\neural_network.py:69\u001b[0m, in \u001b[0;36mNeuralNetwork.calculate_loss\u001b[1;34m(self, weights)\u001b[0m\n\u001b[0;32m     <a href='file:///c%3A/Users/Faaz/Habib%20University/Spring%202022/Computational%20Intelligence/Assignment%2002/Assignment%202/tictactoe/neural_network.py?line=66'>67</a>\u001b[0m ih_weights, ho_weights \u001b[39m=\u001b[39m \u001b[39mself\u001b[39m\u001b[39m.\u001b[39m_reshapeWeights(weights)\n\u001b[0;32m     <a href='file:///c%3A/Users/Faaz/Habib%20University/Spring%202022/Computational%20Intelligence/Assignment%2002/Assignment%202/tictactoe/neural_network.py?line=67'>68</a>\u001b[0m \u001b[39mself\u001b[39m\u001b[39m.\u001b[39mupdate_weights(ih_weights, ho_weights)\n\u001b[1;32m---> <a href='file:///c%3A/Users/Faaz/Habib%20University/Spring%202022/Computational%20Intelligence/Assignment%2002/Assignment%202/tictactoe/neural_network.py?line=68'>69</a>\u001b[0m (W1,L1,T1) \u001b[39m=\u001b[39m PlayMultiple(\u001b[39m500\u001b[39;49m,\u001b[39mself\u001b[39;49m\u001b[39m.\u001b[39;49mpredict,getIntelligentMove, visibleMode\u001b[39m=\u001b[39;49m\u001b[39mFalse\u001b[39;49;00m)  \u001b[39m#Simulate 500 matches with AI agent\u001b[39;00m\n\u001b[0;32m     <a href='file:///c%3A/Users/Faaz/Habib%20University/Spring%202022/Computational%20Intelligence/Assignment%2002/Assignment%202/tictactoe/neural_network.py?line=69'>70</a>\u001b[0m (W2,L2,T2) \u001b[39m=\u001b[39m PlayMultiple(\u001b[39m500\u001b[39m,\u001b[39mself\u001b[39m\u001b[39m.\u001b[39mpredict,getNaiveMove, visibleMode\u001b[39m=\u001b[39m\u001b[39mFalse\u001b[39;00m)  \u001b[39m#Simulate 500 matches with Naive agent\u001b[39;00m\n\u001b[0;32m     <a href='file:///c%3A/Users/Faaz/Habib%20University/Spring%202022/Computational%20Intelligence/Assignment%2002/Assignment%202/tictactoe/neural_network.py?line=70'>71</a>\u001b[0m (W3,L3,T3) \u001b[39m=\u001b[39m PlayMultiple(\u001b[39m500\u001b[39m,\u001b[39mself\u001b[39m\u001b[39m.\u001b[39mpredict,getUnintelligentMove, visibleMode\u001b[39m=\u001b[39m\u001b[39mFalse\u001b[39;00m)  \u001b[39m#Simulate 500 matches with unIntelligent agent\u001b[39;00m\n",
      "File \u001b[1;32mc:\\Users\\Faaz\\Habib University\\Spring 2022\\Computational Intelligence\\Assignment 02\\Assignment 2\\tictactoe\\board.py:147\u001b[0m, in \u001b[0;36mPlayMultiple\u001b[1;34m(noofGames, player1Strategy, player2Strategy, visibleMode)\u001b[0m\n\u001b[0;32m    <a href='file:///c%3A/Users/Faaz/Habib%20University/Spring%202022/Computational%20Intelligence/Assignment%2002/Assignment%202/tictactoe/board.py?line=143'>144</a>\u001b[0m gamesLost \u001b[39m=\u001b[39m \u001b[39m0\u001b[39m\n\u001b[0;32m    <a href='file:///c%3A/Users/Faaz/Habib%20University/Spring%202022/Computational%20Intelligence/Assignment%2002/Assignment%202/tictactoe/board.py?line=145'>146</a>\u001b[0m \u001b[39mfor\u001b[39;00m i \u001b[39min\u001b[39;00m \u001b[39mrange\u001b[39m(\u001b[39m1\u001b[39m,noofGames\u001b[39m+\u001b[39m\u001b[39m1\u001b[39m):\n\u001b[1;32m--> <a href='file:///c%3A/Users/Faaz/Habib%20University/Spring%202022/Computational%20Intelligence/Assignment%2002/Assignment%202/tictactoe/board.py?line=146'>147</a>\u001b[0m     result \u001b[39m=\u001b[39m Play(player1Strategy, player2Strategy,visibleMode)\n\u001b[0;32m    <a href='file:///c%3A/Users/Faaz/Habib%20University/Spring%202022/Computational%20Intelligence/Assignment%2002/Assignment%202/tictactoe/board.py?line=147'>148</a>\u001b[0m     \u001b[39mif\u001b[39;00m result \u001b[39m==\u001b[39m \u001b[39m1\u001b[39m:\n\u001b[0;32m    <a href='file:///c%3A/Users/Faaz/Habib%20University/Spring%202022/Computational%20Intelligence/Assignment%2002/Assignment%202/tictactoe/board.py?line=148'>149</a>\u001b[0m         gamesWon \u001b[39m+\u001b[39m\u001b[39m=\u001b[39m\u001b[39m1\u001b[39m\n",
      "File \u001b[1;32mc:\\Users\\Faaz\\Habib University\\Spring 2022\\Computational Intelligence\\Assignment 02\\Assignment 2\\tictactoe\\board.py:99\u001b[0m, in \u001b[0;36mPlay\u001b[1;34m(playe1Strategy, player2Strategy, visibleMode)\u001b[0m\n\u001b[0;32m     <a href='file:///c%3A/Users/Faaz/Habib%20University/Spring%202022/Computational%20Intelligence/Assignment%2002/Assignment%202/tictactoe/board.py?line=94'>95</a>\u001b[0m \u001b[39mif\u001b[39;00m (visibleMode):\n\u001b[0;32m     <a href='file:///c%3A/Users/Faaz/Habib%20University/Spring%202022/Computational%20Intelligence/Assignment%2002/Assignment%202/tictactoe/board.py?line=95'>96</a>\u001b[0m     \u001b[39m# print(\"Player 1's move...\")\u001b[39;00m\n\u001b[0;32m     <a href='file:///c%3A/Users/Faaz/Habib%20University/Spring%202022/Computational%20Intelligence/Assignment%2002/Assignment%202/tictactoe/board.py?line=96'>97</a>\u001b[0m     drawBoard(theBoard)\n\u001b[1;32m---> <a href='file:///c%3A/Users/Faaz/Habib%20University/Spring%202022/Computational%20Intelligence/Assignment%2002/Assignment%202/tictactoe/board.py?line=98'>99</a>\u001b[0m move \u001b[39m=\u001b[39m playe1Strategy(theBoard,player1Letter)\n\u001b[0;32m    <a href='file:///c%3A/Users/Faaz/Habib%20University/Spring%202022/Computational%20Intelligence/Assignment%2002/Assignment%202/tictactoe/board.py?line=99'>100</a>\u001b[0m makeMove(theBoard, player1Letter, move)\n\u001b[0;32m    <a href='file:///c%3A/Users/Faaz/Habib%20University/Spring%202022/Computational%20Intelligence/Assignment%2002/Assignment%202/tictactoe/board.py?line=100'>101</a>\u001b[0m \u001b[39mif\u001b[39;00m isWinner(theBoard, player1Letter):\n",
      "File \u001b[1;32mc:\\Users\\Faaz\\Habib University\\Spring 2022\\Computational Intelligence\\Assignment 02\\Assignment 2\\tictactoe\\neural_network.py:52\u001b[0m, in \u001b[0;36mNeuralNetwork.predict\u001b[1;34m(self, board, playerLetter)\u001b[0m\n\u001b[0;32m     <a href='file:///c%3A/Users/Faaz/Habib%20University/Spring%202022/Computational%20Intelligence/Assignment%2002/Assignment%202/tictactoe/neural_network.py?line=47'>48</a>\u001b[0m \u001b[39m\"\"\"\u001b[39;00m\n\u001b[0;32m     <a href='file:///c%3A/Users/Faaz/Habib%20University/Spring%202022/Computational%20Intelligence/Assignment%2002/Assignment%202/tictactoe/neural_network.py?line=48'>49</a>\u001b[0m \u001b[39mPredict the output of the neural network\u001b[39;00m\n\u001b[0;32m     <a href='file:///c%3A/Users/Faaz/Habib%20University/Spring%202022/Computational%20Intelligence/Assignment%2002/Assignment%202/tictactoe/neural_network.py?line=49'>50</a>\u001b[0m \u001b[39m\"\"\"\u001b[39;00m\n\u001b[0;32m     <a href='file:///c%3A/Users/Faaz/Habib%20University/Spring%202022/Computational%20Intelligence/Assignment%2002/Assignment%202/tictactoe/neural_network.py?line=50'>51</a>\u001b[0m encodeBoard \u001b[39m=\u001b[39m \u001b[39mself\u001b[39m\u001b[39m.\u001b[39m_encodeBoard(board)\n\u001b[1;32m---> <a href='file:///c%3A/Users/Faaz/Habib%20University/Spring%202022/Computational%20Intelligence/Assignment%2002/Assignment%202/tictactoe/neural_network.py?line=51'>52</a>\u001b[0m output \u001b[39m=\u001b[39m \u001b[39mlist\u001b[39m(\u001b[39mself\u001b[39;49m\u001b[39m.\u001b[39;49mfeedforward(encodeBoard))\n\u001b[0;32m     <a href='file:///c%3A/Users/Faaz/Habib%20University/Spring%202022/Computational%20Intelligence/Assignment%2002/Assignment%202/tictactoe/neural_network.py?line=52'>53</a>\u001b[0m \u001b[39mreturn\u001b[39;00m output\u001b[39m.\u001b[39mindex(\u001b[39mmax\u001b[39m(output)) \u001b[39m+\u001b[39m \u001b[39m1\u001b[39m\n",
      "File \u001b[1;32mc:\\Users\\Faaz\\Habib University\\Spring 2022\\Computational Intelligence\\Assignment 02\\Assignment 2\\tictactoe\\neural_network.py:27\u001b[0m, in \u001b[0;36mNeuralNetwork.feedforward\u001b[1;34m(self, inputs)\u001b[0m\n\u001b[0;32m     <a href='file:///c%3A/Users/Faaz/Habib%20University/Spring%202022/Computational%20Intelligence/Assignment%2002/Assignment%202/tictactoe/neural_network.py?line=22'>23</a>\u001b[0m \u001b[39mdef\u001b[39;00m \u001b[39mfeedforward\u001b[39m(\u001b[39mself\u001b[39m, inputs):\n\u001b[0;32m     <a href='file:///c%3A/Users/Faaz/Habib%20University/Spring%202022/Computational%20Intelligence/Assignment%2002/Assignment%202/tictactoe/neural_network.py?line=23'>24</a>\u001b[0m     \u001b[39m\"\"\"\u001b[39;00m\n\u001b[0;32m     <a href='file:///c%3A/Users/Faaz/Habib%20University/Spring%202022/Computational%20Intelligence/Assignment%2002/Assignment%202/tictactoe/neural_network.py?line=24'>25</a>\u001b[0m \u001b[39m    Feedforward the neural network\u001b[39;00m\n\u001b[0;32m     <a href='file:///c%3A/Users/Faaz/Habib%20University/Spring%202022/Computational%20Intelligence/Assignment%2002/Assignment%202/tictactoe/neural_network.py?line=25'>26</a>\u001b[0m \u001b[39m    \"\"\"\u001b[39;00m\n\u001b[1;32m---> <a href='file:///c%3A/Users/Faaz/Habib%20University/Spring%202022/Computational%20Intelligence/Assignment%2002/Assignment%202/tictactoe/neural_network.py?line=26'>27</a>\u001b[0m     hidden_inputs \u001b[39m=\u001b[39m np\u001b[39m.\u001b[39;49mdot(\u001b[39mself\u001b[39;49m\u001b[39m.\u001b[39;49mweights_ih, inputs)\n\u001b[0;32m     <a href='file:///c%3A/Users/Faaz/Habib%20University/Spring%202022/Computational%20Intelligence/Assignment%2002/Assignment%202/tictactoe/neural_network.py?line=27'>28</a>\u001b[0m     hidden_outputs \u001b[39m=\u001b[39m \u001b[39mself\u001b[39m\u001b[39m.\u001b[39mactivation_function(hidden_inputs)\n\u001b[0;32m     <a href='file:///c%3A/Users/Faaz/Habib%20University/Spring%202022/Computational%20Intelligence/Assignment%2002/Assignment%202/tictactoe/neural_network.py?line=28'>29</a>\u001b[0m     final_inputs \u001b[39m=\u001b[39m np\u001b[39m.\u001b[39mdot(\u001b[39mself\u001b[39m\u001b[39m.\u001b[39mweights_ho, hidden_outputs)\n",
      "File \u001b[1;32m<__array_function__ internals>:180\u001b[0m, in \u001b[0;36mdot\u001b[1;34m(*args, **kwargs)\u001b[0m\n",
      "\u001b[1;31mKeyboardInterrupt\u001b[0m: "
     ]
    }
   ],
   "source": [
    "model = NeuralNetwork(num_inputs=9,num_hidden=36,num_outputs=9)\n",
    "model.optimizeUsingPSO(iterations=50, num_particles=100, max_position=1, max_velocity=0.6)"
   ]
  },
  {
   "cell_type": "markdown",
   "metadata": {},
   "source": [
    "#### Import a Saved Model\n",
    "Alternately, you can import a saved model that I have already trained and is the best so far. "
   ]
  },
  {
   "cell_type": "code",
   "execution_count": 2,
   "metadata": {},
   "outputs": [],
   "source": [
    "from saved_model import *\n",
    "\n",
    "model = NeuralNetwork(num_inputs=9,num_hidden=18,num_outputs=9)\n",
    "model.update_weights(weights_ih_trained, weights_ho_trained)"
   ]
  },
  {
   "cell_type": "markdown",
   "metadata": {},
   "source": [
    "Our model is trained now. We can now play games using our model. Below is the getMove method which uses our model's predict method to predict the next move."
   ]
  },
  {
   "cell_type": "code",
   "execution_count": 19,
   "metadata": {},
   "outputs": [],
   "source": [
    "# predicting moves now\n",
    "def getMove(board, playerLetter):\n",
    "    global model\n",
    "    return model.predict(board, playerLetter)"
   ]
  },
  {
   "cell_type": "code",
   "execution_count": 34,
   "metadata": {},
   "outputs": [
    {
     "name": "stdout",
     "output_type": "stream",
     "text": [
      "[1237, 26, 241, 1226, 228, 53, 27, 25, 78, 106, 578, 435, 23, 21, 313, 25, 1, 373, 334, 14, 10, 529, 27, 49, 22, 193, 7, 75, 192, 40, 77, 123, 0, 5, 9, 19, 541, 2, 597, 8, 41, 19, 3, 29, 338, 276, 628, 28, 903, 17, 21, 189, 0, 506, 641, 19, 36, 31, 13, 0, 1094, 3, 864, 506, 18, 78, 10, 70, 22, 93, 20, 728, 2, 11, 36, 161, 35, 13, 1, 38, 294, 77, 35, 22, 8, 559, 141, 5, 254, 139, 80, 8, 8, 22, 8, 536, 15, 75, 28, 19, 19, 1176, 1176, 1176, 1359, 1406, 1419, 1419, 1419, 1419, 1419, 1419, 1419, 1419, 1419, 1419, 1419, 1419, 1419, 1419, 1419, 1419, 1419, 1419, 1419, 1419, 1419, 1419, 1419, 1419, 1419, 1419, 1419, 1419, 1419, 1419, 1419, 1419, 1419, 1419, 1419, 1419, 1419, 1419, 1419, 1419, 1419, 1419, 1419, 1419]\n"
     ]
    }
   ],
   "source": [
    "print(list(model.best_history))"
   ]
  },
  {
   "cell_type": "markdown",
   "metadata": {},
   "source": [
    "#### Testing the Model\n",
    "Now, I am testing my model by playing it with multiple other agents."
   ]
  },
  {
   "cell_type": "markdown",
   "metadata": {},
   "source": [
    "Playing against Intelligent Agent:"
   ]
  },
  {
   "cell_type": "code",
   "execution_count": 21,
   "metadata": {},
   "outputs": [
    {
     "name": "stdout",
     "output_type": "stream",
     "text": [
      "\n",
      "Total games Played:\t500\n",
      "Games Won by Player 1\t:500\n",
      "Games Won by Player 2\t:0\n",
      "Games Tie:0\n",
      "Accuracy: 100.0 %\n"
     ]
    }
   ],
   "source": [
    "(W,L,T) = PlayMultiple(500,getMove,getIntelligentMove)  #Simulate 500 matches between our PSO model and AI agent\n",
    "print ('\\nTotal games Played:\\t{0}\\nGames Won by Player 1\\t:{1}\\nGames Won by Player 2\\t:{2}\\nGames Tie:{3}'.format(500,W, L,T))\n",
    "print(\"Accuracy:\", (W/500)*100, \"%\")"
   ]
  },
  {
   "cell_type": "markdown",
   "metadata": {},
   "source": [
    "Playing against Naive Agent:"
   ]
  },
  {
   "cell_type": "code",
   "execution_count": 32,
   "metadata": {},
   "outputs": [
    {
     "name": "stdout",
     "output_type": "stream",
     "text": [
      "\n",
      "Total games Played:\t500\n",
      "Games Won by Player 1\t:412\n",
      "Games Won by Player 2\t:87\n",
      "Games Tie:1\n",
      "Accuracy: 82.39999999999999 %\n"
     ]
    }
   ],
   "source": [
    "(W,L,T) = PlayMultiple(500,getMove,getNaiveMove)  #Simulate 500 matches between our PSO model and naive agent\n",
    "print ('\\nTotal games Played:\\t{0}\\nGames Won by Player 1\\t:{1}\\nGames Won by Player 2\\t:{2}\\nGames Tie:{3}'.format(500,W, L,T))\n",
    "print(\"Accuracy:\", (W/500)*100, \"%\")"
   ]
  },
  {
   "cell_type": "markdown",
   "metadata": {},
   "source": [
    "Playing against unIntelligent Agent:"
   ]
  },
  {
   "cell_type": "code",
   "execution_count": 33,
   "metadata": {},
   "outputs": [
    {
     "name": "stdout",
     "output_type": "stream",
     "text": [
      "\n",
      "Total games Played:\t500\n",
      "Games Won by Player 1\t:500\n",
      "Games Won by Player 2\t:0\n",
      "Games Tie:0\n",
      "Accuracy: 100.0 %\n"
     ]
    }
   ],
   "source": [
    "(W,L,T) = PlayMultiple(500,getMove,getUnintelligentMove)  #Simulate 500 matches between our PSO model and unIntelligent agent\n",
    "print ('\\nTotal games Played:\\t{0}\\nGames Won by Player 1\\t:{1}\\nGames Won by Player 2\\t:{2}\\nGames Tie:{3}'.format(500,W, L,T))\n",
    "print(\"Accuracy:\", (W/500)*100, \"%\")"
   ]
  },
  {
   "cell_type": "code",
   "execution_count": 29,
   "metadata": {},
   "outputs": [
    {
     "data": {
      "image/png": "[encoded data removed]",
      "text/plain": [
       "<Figure size 720x576 with 1 Axes>"
      ]
     },
     "metadata": {
      "needs_background": "light"
     },
     "output_type": "display_data"
    }
   ],
   "source": [
    "# Ploting learning curve\n",
    "plt.plot(model.best_history, label=r'Best Fitness Score',)\n",
    "plt.title(r'PSO Optimization')\n",
    "plt.xlabel(r'Iterations')\n",
    "plt.ylabel(r'Fitness Score')\n",
    "plt.legend()\n",
    "plt.savefig(\"best_fitness.png\")"
   ]
  },
  {
   "cell_type": "code",
   "execution_count": null,
   "metadata": {},
   "outputs": [],
   "source": []
  }
 ],
 "metadata": {
  "interpreter": {
   "hash": "ac59ebe37160ed0dfa835113d9b8498d9f09ceb179beaac4002f036b9467c963"
  },
  "kernelspec": {
   "display_name": "Python 3.9.10 64-bit",
   "language": "python",
   "name": "python3"
  },
  "language_info": {
   "codemirror_mode": {
    "name": "ipython",
    "version": 3
   },
   "file_extension": ".py",
   "mimetype": "text/x-python",
   "name": "python",
   "nbconvert_exporter": "python",
   "pygments_lexer": "ipython3",
   "version": "3.9.10"
  },
  "orig_nbformat": 4
 },
 "nbformat": 4,
 "nbformat_minor": 2
}
